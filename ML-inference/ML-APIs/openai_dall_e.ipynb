{
  "nbformat": 4,
  "nbformat_minor": 0,
  "metadata": {
    "colab": {
      "provenance": [],
      "authorship_tag": "ABX9TyPlj690yZ0NP+IahAGKHm4f",
      "include_colab_link": true
    },
    "kernelspec": {
      "name": "python3",
      "display_name": "Python 3"
    },
    "language_info": {
      "name": "python"
    }
  },
  "cells": [
    {
      "cell_type": "markdown",
      "metadata": {
        "id": "view-in-github",
        "colab_type": "text"
      },
      "source": [
        "<a href=\"https://colab.research.google.com/github/daniel-falk/ai-ml-principles-exercises/blob/main/ML-inference/ML-APIs/openai_dall_e.ipynb\" target=\"_parent\"><img src=\"https://colab.research.google.com/assets/colab-badge.svg\" alt=\"Open In Colab\"/></a>"
      ]
    },
    {
      "cell_type": "markdown",
      "source": [
        "# Using the DALL-E API to generate images from text\n",
        "In this exercise we will use the DALL-E image generation model which is accessible from an API using the `openai` library. This will be used to input a text describing the image which will create the image and reply with an URL where it can be downloaded.\n",
        "\n",
        "For more information, see [the API page](https://beta.openai.com/docs/guides/images/usage). "
      ],
      "metadata": {
        "id": "e3v2ywl-khaX"
      }
    },
    {
      "cell_type": "code",
      "execution_count": null,
      "metadata": {
        "id": "BiU-29esgVUL"
      },
      "outputs": [],
      "source": [
        "!pip install openai imageio"
      ]
    },
    {
      "cell_type": "code",
      "source": [
        "import openai\n",
        "\n",
        "# Create your API key by logging in to the openai API website\n",
        "# (if you are logged into the DALL-E GUI, then press the top right\n",
        "# menu and select \"Visit the OpenAI API\"). When logged in, press\n",
        "# the top right menu and select \"View API keys\" and then press\n",
        "# \"Create new secret API key\".\n",
        "openai.api_key = YOUR_KEY"
      ],
      "metadata": {
        "id": "gbK95Z99gzsg"
      },
      "execution_count": null,
      "outputs": []
    },
    {
      "cell_type": "markdown",
      "source": [
        "## Create the image\n",
        "When calling the `create` method the library will send a request to the OpenAI server which generates the images and return a response with a temporary image URL where the image can be downloaded."
      ],
      "metadata": {
        "id": "Nz0_Lyqcn3g8"
      }
    },
    {
      "cell_type": "code",
      "source": [
        "response = openai.Image.create(\n",
        "  prompt=\"A big conference room with colorful birds using their laptop computers, photo realistic style\",\n",
        "  n=1,\n",
        "  size=\"1024x1024\"\n",
        ")\n",
        "image_url = response['data'][0]['url']"
      ],
      "metadata": {
        "id": "bbIB4xyhgYcm"
      },
      "execution_count": null,
      "outputs": []
    },
    {
      "cell_type": "code",
      "source": [
        "image_url"
      ],
      "metadata": {
        "id": "fGn_Eor3grx4"
      },
      "execution_count": null,
      "outputs": []
    },
    {
      "cell_type": "markdown",
      "source": [
        "## Download and show the image\n",
        "The image can be downloaded with e.g. the `imageio` library. We can then use `PIL.Image` to show the image in the notebook output. If running locally, you can instead use the `matplotlib.pyplot.imshow` function."
      ],
      "metadata": {
        "id": "gnozCdVHoNy4"
      }
    },
    {
      "cell_type": "code",
      "source": [
        "import imageio as iio\n",
        "\n",
        "img = iio.imread(image_url)"
      ],
      "metadata": {
        "id": "orBcc6BhhG6i"
      },
      "execution_count": null,
      "outputs": []
    },
    {
      "cell_type": "code",
      "source": [
        "from PIL import Image\n",
        "\n",
        "new_size = 400\n",
        "h, w = img.shape[:2]\n",
        "Image.fromarray(img).resize((new_size, int(h / w * new_size)))"
      ],
      "metadata": {
        "id": "aDE3XU4giHVi"
      },
      "execution_count": null,
      "outputs": []
    }
  ]
}