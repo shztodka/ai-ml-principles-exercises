{
  "nbformat": 4,
  "nbformat_minor": 0,
  "metadata": {
    "colab": {
      "provenance": [],
      "authorship_tag": "ABX9TyOVVH71GBNHEa892pLy3qFV",
      "include_colab_link": true
    },
    "kernelspec": {
      "name": "python3",
      "display_name": "Python 3"
    },
    "language_info": {
      "name": "python"
    }
  },
  "cells": [
    {
      "cell_type": "markdown",
      "metadata": {
        "id": "view-in-github",
        "colab_type": "text"
      },
      "source": [
        "<a href=\"https://colab.research.google.com/github/daniel-falk/ai-ml-principles-exercises/blob/main/ML-training/activeloop-deeplake/activeloop_manual_batching.ipynb\" target=\"_parent\"><img src=\"https://colab.research.google.com/assets/colab-badge.svg\" alt=\"Open In Colab\"/></a>"
      ]
    },
    {
      "cell_type": "markdown",
      "source": [
        "# Manual batching of DeepLake dataset\n",
        "This example shows how to manually load batches of a deeplake dataset into memory. For training algorihms, you can either use this batching technique with a generator or you can use the `Tensor.tensorflow()` or `Tensor.pytorch()` methods to get a data loader."
      ],
      "metadata": {
        "id": "1l_tJq_gEkY0"
      }
    },
    {
      "cell_type": "code",
      "source": [
        "!pip install deeplake\n",
        "\n",
        "import deeplake\n",
        "\n",
        "from IPython.display import clear_output\n",
        "clear_output()"
      ],
      "metadata": {
        "id": "i9RVfEZxCcb3"
      },
      "execution_count": null,
      "outputs": []
    },
    {
      "cell_type": "code",
      "execution_count": null,
      "metadata": {
        "id": "RQIyykX_CDIF"
      },
      "outputs": [],
      "source": [
        "ds = deeplake.load('hub://activeloop/cifar100-test')[:100]"
      ]
    },
    {
      "cell_type": "code",
      "source": [
        "batch_size = 9"
      ],
      "metadata": {
        "id": "hwvTOuNaCuCO"
      },
      "execution_count": null,
      "outputs": []
    },
    {
      "cell_type": "code",
      "source": [
        "last_idx = 0\n",
        "while True:\n",
        "  # Get a reference to the slice with images\n",
        "  batch = ds[last_idx:last_idx+batch_size]\n",
        "  last_idx += batch_size\n",
        "\n",
        "  if not len(batch):\n",
        "    # No more data in dataset\n",
        "    break\n",
        "\n",
        "  # Download the batch\n",
        "  batch = batch.images.numpy()\n",
        "  print(batch.shape)"
      ],
      "metadata": {
        "id": "wj_icwUJCyRa"
      },
      "execution_count": null,
      "outputs": []
    },
    {
      "cell_type": "code",
      "source": [
        "# Make sure the last batch is garbage collected\n",
        "del batch"
      ],
      "metadata": {
        "id": "ahrJwor-Dj-6"
      },
      "execution_count": null,
      "outputs": []
    }
  ]
}